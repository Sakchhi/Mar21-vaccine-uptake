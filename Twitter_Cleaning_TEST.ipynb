{
 "cells": [
  {
   "cell_type": "code",
   "execution_count": 20,
   "metadata": {},
   "outputs": [],
   "source": [
    "import pandas as pd\n",
    "import numpy as np\n",
    "import nltk\n",
    "#import spacy\n",
    "import emoji"
   ]
  },
  {
   "cell_type": "code",
   "execution_count": 17,
   "metadata": {},
   "outputs": [],
   "source": [
    "from nltk.tokenize import TweetTokenizer"
   ]
  },
  {
   "cell_type": "markdown",
   "metadata": {},
   "source": [
    "source: https://www.nltk.org/api/nltk.tokenize.html"
   ]
  },
  {
   "cell_type": "code",
   "execution_count": 2,
   "metadata": {},
   "outputs": [],
   "source": [
    "#df = pd.read_csv('user_based/data/01_cleaned/reddit_user_df.csv')\n",
    "#df[:3]"
   ]
  },
  {
   "cell_type": "code",
   "execution_count": 28,
   "metadata": {},
   "outputs": [],
   "source": [
    "#f = open(\"user_based/data/01_cleaned/twitter_user_df\", \"r\")\n",
    "#print(f.read(200))"
   ]
  },
  {
   "cell_type": "code",
   "execution_count": 4,
   "metadata": {},
   "outputs": [
    {
     "data": {
      "text/html": [
       "<div>\n",
       "<style scoped>\n",
       "    .dataframe tbody tr th:only-of-type {\n",
       "        vertical-align: middle;\n",
       "    }\n",
       "\n",
       "    .dataframe tbody tr th {\n",
       "        vertical-align: top;\n",
       "    }\n",
       "\n",
       "    .dataframe thead th {\n",
       "        text-align: right;\n",
       "    }\n",
       "</style>\n",
       "<table border=\"1\" class=\"dataframe\">\n",
       "  <thead>\n",
       "    <tr style=\"text-align: right;\">\n",
       "      <th></th>\n",
       "      <th>tweet_id</th>\n",
       "      <th>created_at</th>\n",
       "      <th>full_text</th>\n",
       "      <th>geo</th>\n",
       "      <th>coordinates</th>\n",
       "      <th>place</th>\n",
       "      <th>retweet_count</th>\n",
       "      <th>favorite_count</th>\n",
       "      <th>possibly_sensitive</th>\n",
       "      <th>lang</th>\n",
       "      <th>user_id</th>\n",
       "    </tr>\n",
       "  </thead>\n",
       "  <tbody>\n",
       "    <tr>\n",
       "      <th>0</th>\n",
       "      <td>1.364223e+18</td>\n",
       "      <td>2021-02-23 14:38:16+00:00</td>\n",
       "      <td>Here’s what's in the COVID relief package:\\n \\...</td>\n",
       "      <td>NaN</td>\n",
       "      <td>NaN</td>\n",
       "      <td>NaN</td>\n",
       "      <td>9160</td>\n",
       "      <td>38093</td>\n",
       "      <td>NOT FOUND</td>\n",
       "      <td>en</td>\n",
       "      <td>2.950125e+07</td>\n",
       "    </tr>\n",
       "    <tr>\n",
       "      <th>1</th>\n",
       "      <td>1.364381e+18</td>\n",
       "      <td>2021-02-24 01:07:52+00:00</td>\n",
       "      <td>Will the National Endowment for the Arts be he...</td>\n",
       "      <td>NaN</td>\n",
       "      <td>NaN</td>\n",
       "      <td>NaN</td>\n",
       "      <td>6131</td>\n",
       "      <td>18560</td>\n",
       "      <td>NOT FOUND</td>\n",
       "      <td>en</td>\n",
       "      <td>1.201671e+18</td>\n",
       "    </tr>\n",
       "    <tr>\n",
       "      <th>2</th>\n",
       "      <td>1.364610e+18</td>\n",
       "      <td>2021-02-24 16:14:15+00:00</td>\n",
       "      <td>This is both anecdotal and early, but many lon...</td>\n",
       "      <td>NaN</td>\n",
       "      <td>NaN</td>\n",
       "      <td>NaN</td>\n",
       "      <td>5941</td>\n",
       "      <td>63174</td>\n",
       "      <td>NOT FOUND</td>\n",
       "      <td>en</td>\n",
       "      <td>3.842872e+07</td>\n",
       "    </tr>\n",
       "    <tr>\n",
       "      <th>3</th>\n",
       "      <td>1.364727e+18</td>\n",
       "      <td>2021-02-24 23:59:58+00:00</td>\n",
       "      <td>A Link to Professor Chossudovsky’s Analysis of...</td>\n",
       "      <td>NaN</td>\n",
       "      <td>NaN</td>\n",
       "      <td>NaN</td>\n",
       "      <td>1</td>\n",
       "      <td>0</td>\n",
       "      <td>False</td>\n",
       "      <td>en</td>\n",
       "      <td>2.192010e+09</td>\n",
       "    </tr>\n",
       "    <tr>\n",
       "      <th>4</th>\n",
       "      <td>1.364727e+18</td>\n",
       "      <td>2021-02-24 23:59:58+00:00</td>\n",
       "      <td>Children warned over hugging grandparents even...</td>\n",
       "      <td>NaN</td>\n",
       "      <td>NaN</td>\n",
       "      <td>NaN</td>\n",
       "      <td>0</td>\n",
       "      <td>2</td>\n",
       "      <td>False</td>\n",
       "      <td>en</td>\n",
       "      <td>2.868190e+09</td>\n",
       "    </tr>\n",
       "    <tr>\n",
       "      <th>...</th>\n",
       "      <td>...</td>\n",
       "      <td>...</td>\n",
       "      <td>...</td>\n",
       "      <td>...</td>\n",
       "      <td>...</td>\n",
       "      <td>...</td>\n",
       "      <td>...</td>\n",
       "      <td>...</td>\n",
       "      <td>...</td>\n",
       "      <td>...</td>\n",
       "      <td>...</td>\n",
       "    </tr>\n",
       "    <tr>\n",
       "      <th>51152</th>\n",
       "      <td>1.366553e+18</td>\n",
       "      <td>2021-03-02 00:55:24+00:00</td>\n",
       "      <td>EU - GERMANY ....and the beat goes on.... Wher...</td>\n",
       "      <td>NaN</td>\n",
       "      <td>NaN</td>\n",
       "      <td>NaN</td>\n",
       "      <td>2</td>\n",
       "      <td>2</td>\n",
       "      <td>NOT FOUND</td>\n",
       "      <td>en</td>\n",
       "      <td>7.250928e+17</td>\n",
       "    </tr>\n",
       "    <tr>\n",
       "      <th>51153</th>\n",
       "      <td>1.366549e+18</td>\n",
       "      <td>2021-03-02 00:42:14+00:00</td>\n",
       "      <td>@satyendrajain @ArvindKejriwal @DrKKAggarwal  ...</td>\n",
       "      <td>NaN</td>\n",
       "      <td>NaN</td>\n",
       "      <td>NaN</td>\n",
       "      <td>0</td>\n",
       "      <td>0</td>\n",
       "      <td>NOT FOUND</td>\n",
       "      <td>en</td>\n",
       "      <td>3.052016e+09</td>\n",
       "    </tr>\n",
       "    <tr>\n",
       "      <th>51154</th>\n",
       "      <td>1.366547e+18</td>\n",
       "      <td>2021-03-02 00:31:41+00:00</td>\n",
       "      <td>Do it the Coward and Liar way. Get vaccinated ...</td>\n",
       "      <td>NaN</td>\n",
       "      <td>NaN</td>\n",
       "      <td>NaN</td>\n",
       "      <td>0</td>\n",
       "      <td>1</td>\n",
       "      <td>False</td>\n",
       "      <td>en</td>\n",
       "      <td>1.324768e+18</td>\n",
       "    </tr>\n",
       "    <tr>\n",
       "      <th>51155</th>\n",
       "      <td>1.366544e+18</td>\n",
       "      <td>2021-03-02 00:20:03+00:00</td>\n",
       "      <td>Trump urges supporters to get vaccinated again...</td>\n",
       "      <td>NaN</td>\n",
       "      <td>NaN</td>\n",
       "      <td>NaN</td>\n",
       "      <td>8</td>\n",
       "      <td>32</td>\n",
       "      <td>False</td>\n",
       "      <td>en</td>\n",
       "      <td>2.443156e+07</td>\n",
       "    </tr>\n",
       "    <tr>\n",
       "      <th>51156</th>\n",
       "      <td>1.366543e+18</td>\n",
       "      <td>2021-03-02 00:16:03+00:00</td>\n",
       "      <td>Courtesy of @voxdotcom, so important to realiz...</td>\n",
       "      <td>NaN</td>\n",
       "      <td>NaN</td>\n",
       "      <td>NaN</td>\n",
       "      <td>0</td>\n",
       "      <td>2</td>\n",
       "      <td>False</td>\n",
       "      <td>en</td>\n",
       "      <td>1.991185e+08</td>\n",
       "    </tr>\n",
       "  </tbody>\n",
       "</table>\n",
       "<p>51157 rows × 11 columns</p>\n",
       "</div>"
      ],
      "text/plain": [
       "           tweet_id                 created_at  \\\n",
       "0      1.364223e+18  2021-02-23 14:38:16+00:00   \n",
       "1      1.364381e+18  2021-02-24 01:07:52+00:00   \n",
       "2      1.364610e+18  2021-02-24 16:14:15+00:00   \n",
       "3      1.364727e+18  2021-02-24 23:59:58+00:00   \n",
       "4      1.364727e+18  2021-02-24 23:59:58+00:00   \n",
       "...             ...                        ...   \n",
       "51152  1.366553e+18  2021-03-02 00:55:24+00:00   \n",
       "51153  1.366549e+18  2021-03-02 00:42:14+00:00   \n",
       "51154  1.366547e+18  2021-03-02 00:31:41+00:00   \n",
       "51155  1.366544e+18  2021-03-02 00:20:03+00:00   \n",
       "51156  1.366543e+18  2021-03-02 00:16:03+00:00   \n",
       "\n",
       "                                               full_text  geo coordinates  \\\n",
       "0      Here’s what's in the COVID relief package:\\n \\...  NaN         NaN   \n",
       "1      Will the National Endowment for the Arts be he...  NaN         NaN   \n",
       "2      This is both anecdotal and early, but many lon...  NaN         NaN   \n",
       "3      A Link to Professor Chossudovsky’s Analysis of...  NaN         NaN   \n",
       "4      Children warned over hugging grandparents even...  NaN         NaN   \n",
       "...                                                  ...  ...         ...   \n",
       "51152  EU - GERMANY ....and the beat goes on.... Wher...  NaN         NaN   \n",
       "51153  @satyendrajain @ArvindKejriwal @DrKKAggarwal  ...  NaN         NaN   \n",
       "51154  Do it the Coward and Liar way. Get vaccinated ...  NaN         NaN   \n",
       "51155  Trump urges supporters to get vaccinated again...  NaN         NaN   \n",
       "51156  Courtesy of @voxdotcom, so important to realiz...  NaN         NaN   \n",
       "\n",
       "      place  retweet_count  favorite_count possibly_sensitive lang  \\\n",
       "0       NaN           9160           38093          NOT FOUND   en   \n",
       "1       NaN           6131           18560          NOT FOUND   en   \n",
       "2       NaN           5941           63174          NOT FOUND   en   \n",
       "3       NaN              1               0              False   en   \n",
       "4       NaN              0               2              False   en   \n",
       "...     ...            ...             ...                ...  ...   \n",
       "51152   NaN              2               2          NOT FOUND   en   \n",
       "51153   NaN              0               0          NOT FOUND   en   \n",
       "51154   NaN              0               1              False   en   \n",
       "51155   NaN              8              32              False   en   \n",
       "51156   NaN              0               2              False   en   \n",
       "\n",
       "            user_id  \n",
       "0      2.950125e+07  \n",
       "1      1.201671e+18  \n",
       "2      3.842872e+07  \n",
       "3      2.192010e+09  \n",
       "4      2.868190e+09  \n",
       "...             ...  \n",
       "51152  7.250928e+17  \n",
       "51153  3.052016e+09  \n",
       "51154  1.324768e+18  \n",
       "51155  2.443156e+07  \n",
       "51156  1.991185e+08  \n",
       "\n",
       "[51157 rows x 11 columns]"
      ]
     },
     "execution_count": 4,
     "metadata": {},
     "output_type": "execute_result"
    }
   ],
   "source": [
    "df = pd.read_csv('Mar21-vaccine-uptake-main 2/data/twitter/twitter_data_cleaned.csv')\n",
    "df"
   ]
  },
  {
   "cell_type": "code",
   "execution_count": 5,
   "metadata": {},
   "outputs": [
    {
     "name": "stdout",
     "output_type": "stream",
     "text": [
      "<class 'pandas.core.frame.DataFrame'>\n",
      "RangeIndex: 51157 entries, 0 to 51156\n",
      "Data columns (total 11 columns):\n",
      " #   Column              Non-Null Count  Dtype  \n",
      "---  ------              --------------  -----  \n",
      " 0   tweet_id            51157 non-null  float64\n",
      " 1   created_at          51157 non-null  object \n",
      " 2   full_text           51157 non-null  object \n",
      " 3   geo                 77 non-null     object \n",
      " 4   coordinates         77 non-null     object \n",
      " 5   place               1005 non-null   object \n",
      " 6   retweet_count       51157 non-null  int64  \n",
      " 7   favorite_count      51157 non-null  int64  \n",
      " 8   possibly_sensitive  51157 non-null  object \n",
      " 9   lang                51157 non-null  object \n",
      " 10  user_id             51157 non-null  float64\n",
      "dtypes: float64(2), int64(2), object(7)\n",
      "memory usage: 4.3+ MB\n"
     ]
    }
   ],
   "source": [
    "df.info()"
   ]
  },
  {
   "cell_type": "markdown",
   "metadata": {},
   "source": [
    "source : https://www.nltk.org/"
   ]
  },
  {
   "cell_type": "markdown",
   "metadata": {},
   "source": [
    "# Testing EMOJI"
   ]
  },
  {
   "cell_type": "code",
   "execution_count": 10,
   "metadata": {},
   "outputs": [
    {
     "name": "stdout",
     "output_type": "stream",
     "text": [
      "Python is 👍\n"
     ]
    }
   ],
   "source": [
    "print(emoji.emojize('Python is :thumbs_up:'))"
   ]
  },
  {
   "cell_type": "code",
   "execution_count": 11,
   "metadata": {},
   "outputs": [],
   "source": [
    "sentence = \"\"\"At eight o'clock on Thursday morning\n",
    "... Arthur didn't feel very good.\"\"\""
   ]
  },
  {
   "cell_type": "code",
   "execution_count": 15,
   "metadata": {},
   "outputs": [
    {
     "data": {
      "text/plain": [
       "\"At eight o'clock on Thursday morning\\nArthur didn't feel very good.\""
      ]
     },
     "execution_count": 15,
     "metadata": {},
     "output_type": "execute_result"
    }
   ],
   "source": [
    "sentence"
   ]
  },
  {
   "cell_type": "code",
   "execution_count": 22,
   "metadata": {},
   "outputs": [],
   "source": [
    "tknzr = TweetTokenizer()"
   ]
  },
  {
   "cell_type": "code",
   "execution_count": 23,
   "metadata": {},
   "outputs": [
    {
     "data": {
      "text/plain": [
       "['At',\n",
       " 'eight',\n",
       " \"o'clock\",\n",
       " 'on',\n",
       " 'Thursday',\n",
       " 'morning',\n",
       " 'Arthur',\n",
       " \"didn't\",\n",
       " 'feel',\n",
       " 'very',\n",
       " 'good',\n",
       " '.']"
      ]
     },
     "execution_count": 23,
     "metadata": {},
     "output_type": "execute_result"
    }
   ],
   "source": [
    "tknzr.tokenize(sentence)"
   ]
  },
  {
   "cell_type": "markdown",
   "metadata": {},
   "source": [
    "# Tweet TOKENIZER Tester"
   ]
  },
  {
   "cell_type": "code",
   "execution_count": 24,
   "metadata": {},
   "outputs": [
    {
     "data": {
      "text/plain": [
       "[':', 'This', 'is', 'waaayyy', 'too', 'much', 'for', 'you', '!', '!', '!']"
      ]
     },
     "execution_count": 24,
     "metadata": {},
     "output_type": "execute_result"
    }
   ],
   "source": [
    "tknzr = TweetTokenizer(strip_handles=True, reduce_len=True)\n",
    "s1 = '@remy: This is waaaaayyyy too much for you!!!!!!'\n",
    "tknzr.tokenize(s1)"
   ]
  },
  {
   "cell_type": "markdown",
   "metadata": {},
   "source": [
    "source: https://www.nltk.org/api/nltk.tokenize.html"
   ]
  },
  {
   "cell_type": "code",
   "execution_count": 26,
   "metadata": {},
   "outputs": [],
   "source": [
    "s2 = \"This is a cooool #dummysmiley: :-) :-P <3 and some arrows < > -> <--\""
   ]
  },
  {
   "cell_type": "code",
   "execution_count": 27,
   "metadata": {},
   "outputs": [
    {
     "data": {
      "text/plain": [
       "['This',\n",
       " 'is',\n",
       " 'a',\n",
       " 'coool',\n",
       " '#dummysmiley',\n",
       " ':',\n",
       " ':-)',\n",
       " ':-P',\n",
       " '<3',\n",
       " 'and',\n",
       " 'some',\n",
       " 'arrows',\n",
       " '<',\n",
       " '>',\n",
       " '->',\n",
       " '<--']"
      ]
     },
     "execution_count": 27,
     "metadata": {},
     "output_type": "execute_result"
    }
   ],
   "source": [
    "tknzr.tokenize(s2)"
   ]
  },
  {
   "cell_type": "code",
   "execution_count": null,
   "metadata": {},
   "outputs": [],
   "source": []
  }
 ],
 "metadata": {
  "kernelspec": {
   "display_name": "Python 3",
   "language": "python",
   "name": "python3"
  },
  "language_info": {
   "codemirror_mode": {
    "name": "ipython",
    "version": 3
   },
   "file_extension": ".py",
   "mimetype": "text/x-python",
   "name": "python",
   "nbconvert_exporter": "python",
   "pygments_lexer": "ipython3",
   "version": "3.9.1"
  }
 },
 "nbformat": 4,
 "nbformat_minor": 4
}
